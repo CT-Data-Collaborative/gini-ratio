{
 "cells": [
  {
   "cell_type": "markdown",
   "metadata": {},
   "source": [
    "# ACS Gini Ratio, Table B19083"
   ]
  },
  {
   "cell_type": "code",
   "execution_count": 1,
   "metadata": {},
   "outputs": [],
   "source": [
    "import pandas as pd\n",
    "import glob\n",
    "import csv"
   ]
  },
  {
   "cell_type": "markdown",
   "metadata": {},
   "source": [
    "### Define a function to process a single year release"
   ]
  },
  {
   "cell_type": "code",
   "execution_count": 2,
   "metadata": {},
   "outputs": [],
   "source": [
    "def clean_dataset(path):\n",
    "    df = pd.read_csv(path, skiprows=1).rename(columns={\n",
    "        'id': 'FIPS',\n",
    "        'Geographic Area Name': 'Town',\n",
    "        'Estimate!!Gini Index': 'Gini Ratio',\n",
    "        'Margin of Error!!Gini Index': 'Margins of Error'\n",
    "    })\n",
    "    \n",
    "    # Remove nonsense geographies\n",
    "    df = df[ ~df.Town.str.contains('not defined')]\n",
    "    \n",
    "    # Clean up FIPS code and Town name\n",
    "    df.FIPS = df.FIPS.apply(lambda x: x.split('US')[1])\n",
    "    df.Town = df.Town.apply(lambda x: x.split(' town, ')[0])\n",
    "    \n",
    "    # Guess release year from the file name\n",
    "    year = int(path.split('.B19083')[0].split('ACSDT5Y')[1])\n",
    "    df['Year'] = '{}-{}'.format(year-4, year)\n",
    "    \n",
    "    return df"
   ]
  },
  {
   "cell_type": "markdown",
   "metadata": {},
   "source": [
    "### Read all files from `raw/` folder and compile into one final dataset"
   ]
  },
  {
   "cell_type": "code",
   "execution_count": 3,
   "metadata": {},
   "outputs": [],
   "source": [
    "paths = glob.glob('raw/*B19083*.csv')    \n",
    "\n",
    "# Put all years into a single data frame\n",
    "gini_wide = pd.concat(map(clean_dataset, paths))\n",
    "gini_wide['Measure Type'] = 'Number'\n",
    "\n",
    "# Transform wide to long\n",
    "gini = pd.melt(\n",
    "    gini_wide,\n",
    "    id_vars=['Town', 'FIPS', 'Year', 'Measure Type'],\n",
    "    value_vars=['Margins of Error', 'Gini Ratio'],\n",
    "    var_name='Variable',\n",
    "    value_name='Value',\n",
    ")\n",
    "\n",
    "gini.Value = gini.Value.apply(float)\n",
    "\n",
    "# Sort by town/year and save\n",
    "gini.sort_values(['Town', 'Year']).to_csv('data/gini-ratio-2019.csv', index=False, quoting=csv.QUOTE_NONNUMERIC)"
   ]
  }
 ],
 "metadata": {
  "kernelspec": {
   "display_name": "Python 3",
   "language": "python",
   "name": "python3"
  },
  "language_info": {
   "codemirror_mode": {
    "name": "ipython",
    "version": 3
   },
   "file_extension": ".py",
   "mimetype": "text/x-python",
   "name": "python",
   "nbconvert_exporter": "python",
   "pygments_lexer": "ipython3",
   "version": "3.7.3"
  }
 },
 "nbformat": 4,
 "nbformat_minor": 4
}
